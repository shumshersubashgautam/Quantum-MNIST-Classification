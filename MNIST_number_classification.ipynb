{
  "nbformat": 4,
  "nbformat_minor": 0,
  "metadata": {
    "colab": {
      "provenance": [],
      "authorship_tag": "ABX9TyMwEgTyT+TwXIgWIlQsL/UV",
      "include_colab_link": true
    },
    "kernelspec": {
      "name": "python3",
      "display_name": "Python 3"
    },
    "language_info": {
      "name": "python"
    },
    "accelerator": "GPU",
    "gpuClass": "standard"
  },
  "cells": [
    {
      "cell_type": "markdown",
      "metadata": {
        "id": "view-in-github",
        "colab_type": "text"
      },
      "source": [
        "<a href=\"https://colab.research.google.com/github/shumshersubashgautam/Quantum-MNIST-Classification/blob/main/MNIST_number_classification.ipynb\" target=\"_parent\"><img src=\"https://colab.research.google.com/assets/colab-badge.svg\" alt=\"Open In Colab\"/></a>"
      ]
    },
    {
      "cell_type": "code",
      "execution_count": 2,
      "metadata": {
        "id": "0_hhIn9wI27n"
      },
      "outputs": [],
      "source": [
        "!pip install tensorflow==2.7.0\n",
        "from IPython.display import clear_output\n",
        "clear_output()"
      ]
    },
    {
      "cell_type": "code",
      "source": [
        "!pip install tensorflow-quantum==0.7.2\n",
        "from IPython.display import clear_output\n",
        "clear_output()"
      ],
      "metadata": {
        "id": "GRNfmIfgI_BD"
      },
      "execution_count": 3,
      "outputs": []
    },
    {
      "cell_type": "code",
      "source": [
        "# Update package resources to account for version changes.\n",
        "import importlib, pkg_resources\n",
        "importlib.reload(pkg_resources)"
      ],
      "metadata": {
        "colab": {
          "base_uri": "https://localhost:8080/"
        },
        "id": "msQeLH0-JaEo",
        "outputId": "edd9ca1d-0aa4-44db-a17b-8169fd329525"
      },
      "execution_count": 4,
      "outputs": [
        {
          "output_type": "execute_result",
          "data": {
            "text/plain": [
              "<module 'pkg_resources' from '/usr/local/lib/python3.8/dist-packages/pkg_resources/__init__.py'>"
            ]
          },
          "metadata": {},
          "execution_count": 4
        }
      ]
    },
    {
      "cell_type": "code",
      "source": [
        "import tensorflow as tf\n",
        "import tensorflow_quantum as tfq\n",
        "\n",
        "import cirq\n",
        "import sympy\n",
        "import numpy as np\n",
        "import seaborn as sns\n",
        "import collections\n",
        "\n",
        "# visualization tools\n",
        "%matplotlib inline\n",
        "import matplotlib.pyplot as plt\n",
        "from cirq.contrib.svg import SVGCircuit"
      ],
      "metadata": {
        "id": "ileZbOWrKAJS"
      },
      "execution_count": 6,
      "outputs": []
    },
    {
      "cell_type": "markdown",
      "source": [
        "**1. Load the data**\n",
        "\n",
        "In this tutorial you will build a binary classifier to distinguish between the digits 3 and 6, following Farhi et al. This section covers the data handling that:\n",
        "\n",
        "Loads the raw data from Keras.\n",
        "Filters the dataset to only 3s and 6s.\n",
        "\n",
        "Downscales the images so they fit can fit in a quantum computer.\n",
        "Removes any contradictory examples.\n",
        "\n",
        "Converts the binary images to Cirq circuits.\n",
        "\n",
        "Converts the Cirq circuits to TensorFlow Quantum circuits.\n",
        "\n",
        "**1.1 Load the raw data**\n",
        "\n",
        "Load the MNIST dataset distributed with Keras."
      ],
      "metadata": {
        "id": "cOnSBKouJpcL"
      }
    },
    {
      "cell_type": "code",
      "source": [
        "(x_train, y_train), (x_test, y_test) = tf.keras.datasets.mnist.load_data()\n",
        "\n",
        "# Rescale the images from [0,255] to the [0.0,1.0] range.\n",
        "x_train, x_test = x_train[..., np.newaxis]/255.0, x_test[..., np.newaxis]/255.0\n",
        "\n",
        "print(\"Number of original training examples:\", len(x_train))\n",
        "print(\"Number of original test examples:\", len(x_test))"
      ],
      "metadata": {
        "colab": {
          "base_uri": "https://localhost:8080/"
        },
        "id": "nPoYaOvIJmfx",
        "outputId": "5b67006b-f553-4640-ded0-752557deb907"
      },
      "execution_count": 7,
      "outputs": [
        {
          "output_type": "stream",
          "name": "stdout",
          "text": [
            "Downloading data from https://storage.googleapis.com/tensorflow/tf-keras-datasets/mnist.npz\n",
            "11493376/11490434 [==============================] - 0s 0us/step\n",
            "11501568/11490434 [==============================] - 0s 0us/step\n",
            "Number of original training examples: 60000\n",
            "Number of original test examples: 10000\n"
          ]
        }
      ]
    },
    {
      "cell_type": "markdown",
      "source": [
        "Filter the dataset to keep just the 3s and 6s, remove the other classes. At the same time convert the label, y, to boolean: True for 3 and False for 6."
      ],
      "metadata": {
        "id": "A03Ry9xwKLOz"
      }
    },
    {
      "cell_type": "code",
      "source": [
        "def filter_36(x, y):\n",
        "    keep = (y == 3) | (y == 6)\n",
        "    x, y = x[keep], y[keep]\n",
        "    y = y == 3\n",
        "    return x,y"
      ],
      "metadata": {
        "id": "Lekr-pb4J7WZ"
      },
      "execution_count": 8,
      "outputs": []
    },
    {
      "cell_type": "code",
      "source": [
        "x_train, y_train = filter_36(x_train, y_train)\n",
        "x_test, y_test = filter_36(x_test, y_test)\n",
        "\n",
        "print(\"Number of filtered training examples:\", len(x_train))\n",
        "print(\"Number of filtered test examples:\", len(x_test))"
      ],
      "metadata": {
        "colab": {
          "base_uri": "https://localhost:8080/"
        },
        "id": "9eoHxUHJKPAY",
        "outputId": "67da0ba1-506d-49d5-9c4f-fff48221962a"
      },
      "execution_count": 9,
      "outputs": [
        {
          "output_type": "stream",
          "name": "stdout",
          "text": [
            "Number of filtered training examples: 12049\n",
            "Number of filtered test examples: 1968\n"
          ]
        }
      ]
    },
    {
      "cell_type": "code",
      "source": [
        "print(y_train[0])\n",
        "\n",
        "plt.imshow(x_train[0, :, :, 0])\n",
        "plt.colorbar()"
      ],
      "metadata": {
        "colab": {
          "base_uri": "https://localhost:8080/",
          "height": 306
        },
        "id": "LSph6N7CKRWw",
        "outputId": "2bc00d6a-bdb5-48c3-d834-cc9ac33a6171"
      },
      "execution_count": 10,
      "outputs": [
        {
          "output_type": "stream",
          "name": "stdout",
          "text": [
            "True\n"
          ]
        },
        {
          "output_type": "execute_result",
          "data": {
            "text/plain": [
              "<matplotlib.colorbar.Colorbar at 0x7f645012a3a0>"
            ]
          },
          "metadata": {},
          "execution_count": 10
        },
        {
          "output_type": "display_data",
          "data": {
            "text/plain": [
              "<Figure size 432x288 with 2 Axes>"
            ],
            "image/png": "[encoded data removed]"
          },
          "metadata": {
            "needs_background": "light"
          }
        }
      ]
    },
    {
      "cell_type": "markdown",
      "source": [
        "**1.2 Downscale the images**\n",
        "\n",
        "An image size of 28x28 is much too large for current quantum computers. Resize the image down to 4x4:"
      ],
      "metadata": {
        "id": "nxMgUfMaKXsZ"
      }
    },
    {
      "cell_type": "code",
      "source": [
        "x_train_small = tf.image.resize(x_train, (4,4)).numpy()\n",
        "x_test_small = tf.image.resize(x_test, (4,4)).numpy()"
      ],
      "metadata": {
        "id": "d0OPSHrVKUNp"
      },
      "execution_count": 11,
      "outputs": []
    },
    {
      "cell_type": "markdown",
      "source": [
        "Again, display the first training example—after resize:"
      ],
      "metadata": {
        "id": "9yzf2t1bKfRy"
      }
    },
    {
      "cell_type": "code",
      "source": [
        "print(y_train[0])\n",
        "\n",
        "plt.imshow(x_train_small[0,:,:,0], vmin=0, vmax=1)\n",
        "plt.colorbar()"
      ],
      "metadata": {
        "colab": {
          "base_uri": "https://localhost:8080/",
          "height": 306
        },
        "id": "rS18WoDkKdKx",
        "outputId": "3baa6cb7-3f94-42a4-b050-7981c620371a"
      },
      "execution_count": 12,
      "outputs": [
        {
          "output_type": "stream",
          "name": "stdout",
          "text": [
            "True\n"
          ]
        },
        {
          "output_type": "execute_result",
          "data": {
            "text/plain": [
              "<matplotlib.colorbar.Colorbar at 0x7f63b90f6fd0>"
            ]
          },
          "metadata": {},
          "execution_count": 12
        },
        {
          "output_type": "display_data",
          "data": {
            "text/plain": [
              "<Figure size 432x288 with 2 Axes>"
            ],
            "image/png": "[encoded data removed]"
          },
          "metadata": {
            "needs_background": "light"
          }
        }
      ]
    },
    {
      "cell_type": "markdown",
      "source": [
        "1.3 Remove contradictory examples\n",
        "\n",
        "From section \n",
        "3.3 Learning to Distinguish Digits of Farhi et al., \n",
        "\n",
        "filter the dataset to remove images that are labeled as belonging to both classes.\n",
        "\n",
        "This is not a standard machine-learning procedure, but is included in the interest of following the paper."
      ],
      "metadata": {
        "id": "ulOa6MOTKl3p"
      }
    },
    {
      "cell_type": "code",
      "source": [
        "def remove_contradicting(xs, ys):\n",
        "    mapping = collections.defaultdict(set)\n",
        "    orig_x = {}\n",
        "    # Determine the set of labels for each unique image:\n",
        "    for x,y in zip(xs,ys):\n",
        "       orig_x[tuple(x.flatten())] = x\n",
        "       mapping[tuple(x.flatten())].add(y)\n",
        "\n",
        "    new_x = []\n",
        "    new_y = []\n",
        "    for flatten_x in mapping:\n",
        "      x = orig_x[flatten_x]\n",
        "      labels = mapping[flatten_x]\n",
        "      if len(labels) == 1:\n",
        "          new_x.append(x)\n",
        "          new_y.append(next(iter(labels)))\n",
        "      else:\n",
        "          # Throw out images that match more than one label.\n",
        "          pass\n",
        "\n",
        "    num_uniq_3 = sum(1 for value in mapping.values() if len(value) == 1 and True in value)\n",
        "    num_uniq_6 = sum(1 for value in mapping.values() if len(value) == 1 and False in value)\n",
        "    num_uniq_both = sum(1 for value in mapping.values() if len(value) == 2)\n",
        "\n",
        "    print(\"Number of unique images:\", len(mapping.values()))\n",
        "    print(\"Number of unique 3s: \", num_uniq_3)\n",
        "    print(\"Number of unique 6s: \", num_uniq_6)\n",
        "    print(\"Number of unique contradicting labels (both 3 and 6): \", num_uniq_both)\n",
        "    print()\n",
        "    print(\"Initial number of images: \", len(xs))\n",
        "    print(\"Remaining non-contradicting unique images: \", len(new_x))\n",
        "\n",
        "    return np.array(new_x), np.array(new_y)"
      ],
      "metadata": {
        "id": "bBo7RMEoKirw"
      },
      "execution_count": 13,
      "outputs": []
    },
    {
      "cell_type": "markdown",
      "source": [
        "The resulting counts do not closely match the reported values, but the exact procedure is not specified.\n",
        "\n",
        "It is also worth noting here that applying filtering contradictory examples at this point does not totally prevent the model from receiving contradictory training examples: the next step binarizes the data which will cause more collisions."
      ],
      "metadata": {
        "id": "qKQu_wq6Kxv5"
      }
    },
    {
      "cell_type": "code",
      "source": [
        "x_train_nocon, y_train_nocon = remove_contradicting(x_train_small, y_train)"
      ],
      "metadata": {
        "colab": {
          "base_uri": "https://localhost:8080/"
        },
        "id": "gjkHhoJIKvjo",
        "outputId": "0c8f9238-218f-4630-ece7-5a850016cefb"
      },
      "execution_count": 14,
      "outputs": [
        {
          "output_type": "stream",
          "name": "stdout",
          "text": [
            "Number of unique images: 10387\n",
            "Number of unique 3s:  4912\n",
            "Number of unique 6s:  5426\n",
            "Number of unique contradicting labels (both 3 and 6):  49\n",
            "\n",
            "Initial number of images:  12049\n",
            "Remaining non-contradicting unique images:  10338\n"
          ]
        }
      ]
    },
    {
      "cell_type": "markdown",
      "source": [
        "1.4 Encode the data as quantum circuits\n",
        "\n",
        "To process images using a quantum computer, Farhi et al. proposed representing each pixel with a qubit, with the state depending on the value of the pixel. The first step is to convert to a binary encoding."
      ],
      "metadata": {
        "id": "YM410pMWK5Wj"
      }
    },
    {
      "cell_type": "code",
      "source": [
        "THRESHOLD = 0.5\n",
        "\n",
        "x_train_bin = np.array(x_train_nocon > THRESHOLD, dtype=np.float32)\n",
        "x_test_bin = np.array(x_test_small > THRESHOLD, dtype=np.float32)"
      ],
      "metadata": {
        "id": "cDmPxdp5K2Ix"
      },
      "execution_count": 15,
      "outputs": []
    },
    {
      "cell_type": "markdown",
      "source": [
        "If you were to remove contradictory images at this point you would be left with only 193, likely not enough for effective training."
      ],
      "metadata": {
        "id": "pU4onQubLAUy"
      }
    },
    {
      "cell_type": "code",
      "source": [
        "_ = remove_contradicting(x_train_bin, y_train_nocon)"
      ],
      "metadata": {
        "colab": {
          "base_uri": "https://localhost:8080/"
        },
        "id": "SLUFYyWoK-WZ",
        "outputId": "c1146ac1-d4e0-4625-8ccf-122fbe457158"
      },
      "execution_count": 16,
      "outputs": [
        {
          "output_type": "stream",
          "name": "stdout",
          "text": [
            "Number of unique images: 193\n",
            "Number of unique 3s:  80\n",
            "Number of unique 6s:  69\n",
            "Number of unique contradicting labels (both 3 and 6):  44\n",
            "\n",
            "Initial number of images:  10338\n",
            "Remaining non-contradicting unique images:  149\n"
          ]
        }
      ]
    },
    {
      "cell_type": "markdown",
      "source": [
        "The qubits at pixel indices with values that exceed a threshold, are rotated through an X gate."
      ],
      "metadata": {
        "id": "AEfZSvW4LHH6"
      }
    },
    {
      "cell_type": "code",
      "source": [
        "def convert_to_circuit(image):\n",
        "    \"\"\"Encode truncated classical image into quantum datapoint.\"\"\"\n",
        "    values = np.ndarray.flatten(image)\n",
        "    qubits = cirq.GridQubit.rect(4, 4)\n",
        "    circuit = cirq.Circuit()\n",
        "    for i, value in enumerate(values):\n",
        "        if value:\n",
        "            circuit.append(cirq.X(qubits[i]))\n",
        "    return circuit\n",
        "\n",
        "\n",
        "x_train_circ = [convert_to_circuit(x) for x in x_train_bin]\n",
        "x_test_circ = [convert_to_circuit(x) for x in x_test_bin]"
      ],
      "metadata": {
        "id": "HPF_Hk_ULDlp"
      },
      "execution_count": 17,
      "outputs": []
    },
    {
      "cell_type": "markdown",
      "source": [
        "Here is the circuit created for the first example (circuit diagrams do not show qubits with zero gates):"
      ],
      "metadata": {
        "id": "BsrDVD0oLOj9"
      }
    },
    {
      "cell_type": "code",
      "source": [
        "SVGCircuit(x_train_circ[0])"
      ],
      "metadata": {
        "colab": {
          "base_uri": "https://localhost:8080/",
          "height": 139
        },
        "id": "AaOi554VLMeg",
        "outputId": "35ceec8d-39e6-43ba-976d-a65fbf57bc96"
      },
      "execution_count": 18,
      "outputs": [
        {
          "output_type": "stream",
          "name": "stderr",
          "text": [
            "WARNING:matplotlib.font_manager:findfont: Font family ['Arial'] not found. Falling back to DejaVu Sans.\n"
          ]
        },
        {
          "output_type": "execute_result",
          "data": {
            "text/plain": [
              "<cirq.contrib.svg.svg.SVGCircuit at 0x7f63b90ae700>"
            ],
            "image/svg+xml": "<svg xmlns=\"http://www.w3.org/2000/svg\" width=\"169.517734375\" height=\"100.0\"><line x1=\"34.7588671875\" x2=\"139.517734375\" y1=\"25.0\" y2=\"25.0\" stroke=\"#1967d2\" stroke-width=\"1\" /><line x1=\"34.7588671875\" x2=\"139.517734375\" y1=\"75.0\" y2=\"75.0\" stroke=\"#1967d2\" stroke-width=\"1\" /><rect x=\"10.0\" y=\"5.0\" width=\"49.517734375\" height=\"40\" stroke=\"black\" fill=\"white\" stroke-width=\"0\" /><text x=\"34.7588671875\" y=\"25.0\" dominant-baseline=\"middle\" text-anchor=\"middle\" font-size=\"14px\" font-family=\"Arial\">(2, 2): </text><rect x=\"10.0\" y=\"55.0\" width=\"49.517734375\" height=\"40\" stroke=\"black\" fill=\"white\" stroke-width=\"0\" /><text x=\"34.7588671875\" y=\"75.0\" dominant-baseline=\"middle\" text-anchor=\"middle\" font-size=\"14px\" font-family=\"Arial\">(3, 1): </text><rect x=\"79.517734375\" y=\"5.0\" width=\"40\" height=\"40\" stroke=\"black\" fill=\"white\" stroke-width=\"1\" /><text x=\"99.517734375\" y=\"25.0\" dominant-baseline=\"middle\" text-anchor=\"middle\" font-size=\"18px\" font-family=\"Arial\">X</text><rect x=\"79.517734375\" y=\"55.0\" width=\"40\" height=\"40\" stroke=\"black\" fill=\"white\" stroke-width=\"1\" /><text x=\"99.517734375\" y=\"75.0\" dominant-baseline=\"middle\" text-anchor=\"middle\" font-size=\"18px\" font-family=\"Arial\">X</text></svg>"
          },
          "metadata": {},
          "execution_count": 18
        }
      ]
    },
    {
      "cell_type": "markdown",
      "source": [
        "Compare this circuit to the indices where the image value exceeds the threshold:"
      ],
      "metadata": {
        "id": "yGaMEd_-LUry"
      }
    },
    {
      "cell_type": "code",
      "source": [
        "bin_img = x_train_bin[0,:,:,0]\n",
        "indices = np.array(np.where(bin_img)).T\n",
        "indices"
      ],
      "metadata": {
        "colab": {
          "base_uri": "https://localhost:8080/"
        },
        "id": "a0VxtuoILRzQ",
        "outputId": "90f8a737-0d55-4c62-831f-b91892f2ec27"
      },
      "execution_count": 19,
      "outputs": [
        {
          "output_type": "execute_result",
          "data": {
            "text/plain": [
              "array([[2, 2],\n",
              "       [3, 1]])"
            ]
          },
          "metadata": {},
          "execution_count": 19
        }
      ]
    },
    {
      "cell_type": "markdown",
      "source": [
        "Convert these Cirq circuits to tensors for tfq:"
      ],
      "metadata": {
        "id": "yAObXLsVLaia"
      }
    },
    {
      "cell_type": "code",
      "source": [
        "x_train_tfcirc = tfq.convert_to_tensor(x_train_circ)\n",
        "x_test_tfcirc = tfq.convert_to_tensor(x_test_circ)"
      ],
      "metadata": {
        "id": "_77r-XObLXwS"
      },
      "execution_count": 20,
      "outputs": []
    },
    {
      "cell_type": "markdown",
      "source": [
        "**2. Quantum neural network**\n",
        "\n",
        "There is little guidance for a quantum circuit structure that classifies images. Since the classification is based on the expectation of the readout qubit, Farhi et al. propose using two qubit gates, with the readout qubit always acted upon. This is similar in some ways to running small a Unitary RNN across the pixels.\n",
        "\n",
        "**2.1 Build the model circuit**\n",
        "\n",
        "This following example shows this layered approach. Each layer uses n instances of the same gate, with each of the data qubits acting on the readout qubit.\n",
        "\n",
        "Start with a simple class that will add a layer of these gates to a circuit:"
      ],
      "metadata": {
        "id": "wxDrmWBLLhnM"
      }
    },
    {
      "cell_type": "code",
      "source": [
        "class CircuitLayerBuilder():\n",
        "    def __init__(self, data_qubits, readout):\n",
        "        self.data_qubits = data_qubits\n",
        "        self.readout = readout\n",
        "\n",
        "    def add_layer(self, circuit, gate, prefix):\n",
        "        for i, qubit in enumerate(self.data_qubits):\n",
        "            symbol = sympy.Symbol(prefix + '-' + str(i))\n",
        "            circuit.append(gate(qubit, self.readout)**symbol)"
      ],
      "metadata": {
        "id": "ln5G3W0lLeb4"
      },
      "execution_count": 21,
      "outputs": []
    },
    {
      "cell_type": "markdown",
      "source": [
        "Build an example circuit layer to see how it looks:"
      ],
      "metadata": {
        "id": "P3iUb2rHLx-y"
      }
    },
    {
      "cell_type": "code",
      "source": [
        "demo_builder = CircuitLayerBuilder(data_qubits = cirq.GridQubit.rect(4,1),\n",
        "                                   readout=cirq.GridQubit(-1,-1))\n",
        "\n",
        "circuit = cirq.Circuit()\n",
        "demo_builder.add_layer(circuit, gate = cirq.XX, prefix='xx')\n",
        "SVGCircuit(circuit)"
      ],
      "metadata": {
        "colab": {
          "base_uri": "https://localhost:8080/",
          "height": 271
        },
        "id": "zJOSBSzvLvjJ",
        "outputId": "d4715679-ca68-4cfd-d76e-de9316fa1db6"
      },
      "execution_count": 22,
      "outputs": [
        {
          "output_type": "execute_result",
          "data": {
            "text/plain": [
              "<cirq.contrib.svg.svg.SVGCircuit at 0x7f63b763adc0>"
            ],
            "image/svg+xml": "<svg xmlns=\"http://www.w3.org/2000/svg\" width=\"522.59953125\" height=\"250.0\"><line x1=\"39.810625\" x2=\"492.59953125000004\" y1=\"25.0\" y2=\"25.0\" stroke=\"#1967d2\" stroke-width=\"1\" /><line x1=\"39.810625\" x2=\"492.59953125000004\" y1=\"75.0\" y2=\"75.0\" stroke=\"#1967d2\" stroke-width=\"1\" /><line x1=\"39.810625\" x2=\"492.59953125000004\" y1=\"125.0\" y2=\"125.0\" stroke=\"#1967d2\" stroke-width=\"1\" /><line x1=\"39.810625\" x2=\"492.59953125000004\" y1=\"175.0\" y2=\"175.0\" stroke=\"#1967d2\" stroke-width=\"1\" /><line x1=\"39.810625\" x2=\"492.59953125000004\" y1=\"225.0\" y2=\"225.0\" stroke=\"#1967d2\" stroke-width=\"1\" /><line x1=\"129.99353515625\" x2=\"129.99353515625\" y1=\"25.0\" y2=\"75.0\" stroke=\"black\" stroke-width=\"3\" /><line x1=\"230.73810546875004\" x2=\"230.73810546875004\" y1=\"25.0\" y2=\"125.0\" stroke=\"black\" stroke-width=\"3\" /><line x1=\"331.48267578125007\" x2=\"331.48267578125007\" y1=\"25.0\" y2=\"175.0\" stroke=\"black\" stroke-width=\"3\" /><line x1=\"432.22724609375007\" x2=\"432.22724609375007\" y1=\"25.0\" y2=\"225.0\" stroke=\"black\" stroke-width=\"3\" /><rect x=\"10.0\" y=\"5.0\" width=\"59.62125\" height=\"40\" stroke=\"black\" fill=\"white\" stroke-width=\"0\" /><text x=\"39.810625\" y=\"25.0\" dominant-baseline=\"middle\" text-anchor=\"middle\" font-size=\"14px\" font-family=\"Arial\">(-1, -1): </text><rect x=\"10.0\" y=\"55.0\" width=\"59.62125\" height=\"40\" stroke=\"black\" fill=\"white\" stroke-width=\"0\" /><text x=\"39.810625\" y=\"75.0\" dominant-baseline=\"middle\" text-anchor=\"middle\" font-size=\"14px\" font-family=\"Arial\">(0, 0): </text><rect x=\"10.0\" y=\"105.0\" width=\"59.62125\" height=\"40\" stroke=\"black\" fill=\"white\" stroke-width=\"0\" /><text x=\"39.810625\" y=\"125.0\" dominant-baseline=\"middle\" text-anchor=\"middle\" font-size=\"14px\" font-family=\"Arial\">(1, 0): </text><rect x=\"10.0\" y=\"155.0\" width=\"59.62125\" height=\"40\" stroke=\"black\" fill=\"white\" stroke-width=\"0\" /><text x=\"39.810625\" y=\"175.0\" dominant-baseline=\"middle\" text-anchor=\"middle\" font-size=\"14px\" font-family=\"Arial\">(2, 0): </text><rect x=\"10.0\" y=\"205.0\" width=\"59.62125\" height=\"40\" stroke=\"black\" fill=\"white\" stroke-width=\"0\" /><text x=\"39.810625\" y=\"225.0\" dominant-baseline=\"middle\" text-anchor=\"middle\" font-size=\"14px\" font-family=\"Arial\">(3, 0): </text><rect x=\"89.62125\" y=\"55.0\" width=\"80.74457031250002\" height=\"40\" stroke=\"black\" fill=\"white\" stroke-width=\"1\" /><text x=\"129.99353515625\" y=\"75.0\" dominant-baseline=\"middle\" text-anchor=\"middle\" font-size=\"14px\" font-family=\"Arial\">XX^(xx-0)</text><rect x=\"89.62125\" y=\"5.0\" width=\"80.74457031250002\" height=\"40\" stroke=\"black\" fill=\"white\" stroke-width=\"1\" /><text x=\"129.99353515625\" y=\"25.0\" dominant-baseline=\"middle\" text-anchor=\"middle\" font-size=\"14px\" font-family=\"Arial\">XX</text><rect x=\"190.36582031250003\" y=\"105.0\" width=\"80.74457031250002\" height=\"40\" stroke=\"black\" fill=\"white\" stroke-width=\"1\" /><text x=\"230.73810546875004\" y=\"125.0\" dominant-baseline=\"middle\" text-anchor=\"middle\" font-size=\"14px\" font-family=\"Arial\">XX^(xx-1)</text><rect x=\"190.36582031250003\" y=\"5.0\" width=\"80.74457031250002\" height=\"40\" stroke=\"black\" fill=\"white\" stroke-width=\"1\" /><text x=\"230.73810546875004\" y=\"25.0\" dominant-baseline=\"middle\" text-anchor=\"middle\" font-size=\"14px\" font-family=\"Arial\">XX</text><rect x=\"291.11039062500004\" y=\"155.0\" width=\"80.74457031250002\" height=\"40\" stroke=\"black\" fill=\"white\" stroke-width=\"1\" /><text x=\"331.48267578125007\" y=\"175.0\" dominant-baseline=\"middle\" text-anchor=\"middle\" font-size=\"14px\" font-family=\"Arial\">XX^(xx-2)</text><rect x=\"291.11039062500004\" y=\"5.0\" width=\"80.74457031250002\" height=\"40\" stroke=\"black\" fill=\"white\" stroke-width=\"1\" /><text x=\"331.48267578125007\" y=\"25.0\" dominant-baseline=\"middle\" text-anchor=\"middle\" font-size=\"14px\" font-family=\"Arial\">XX</text><rect x=\"391.85496093750004\" y=\"205.0\" width=\"80.74457031250002\" height=\"40\" stroke=\"black\" fill=\"white\" stroke-width=\"1\" /><text x=\"432.22724609375007\" y=\"225.0\" dominant-baseline=\"middle\" text-anchor=\"middle\" font-size=\"14px\" font-family=\"Arial\">XX^(xx-3)</text><rect x=\"391.85496093750004\" y=\"5.0\" width=\"80.74457031250002\" height=\"40\" stroke=\"black\" fill=\"white\" stroke-width=\"1\" /><text x=\"432.22724609375007\" y=\"25.0\" dominant-baseline=\"middle\" text-anchor=\"middle\" font-size=\"14px\" font-family=\"Arial\">XX</text></svg>"
          },
          "metadata": {},
          "execution_count": 22
        }
      ]
    },
    {
      "cell_type": "markdown",
      "source": [
        "Now build a two-layered model, matching the data-circuit size, and include the preparation and readout operations."
      ],
      "metadata": {
        "id": "Y8HNYZanL3kj"
      }
    },
    {
      "cell_type": "code",
      "source": [
        "def create_quantum_model():\n",
        "    \"\"\"Create a QNN model circuit and readout operation to go along with it.\"\"\"\n",
        "    data_qubits = cirq.GridQubit.rect(4, 4)  # a 4x4 grid.\n",
        "    readout = cirq.GridQubit(-1, -1)         # a single qubit at [-1,-1]\n",
        "    circuit = cirq.Circuit()\n",
        "\n",
        "    # Prepare the readout qubit.\n",
        "    circuit.append(cirq.X(readout))\n",
        "    circuit.append(cirq.H(readout))\n",
        "\n",
        "    builder = CircuitLayerBuilder(\n",
        "        data_qubits = data_qubits,\n",
        "        readout=readout)\n",
        "\n",
        "    # Then add layers (experiment by adding more).\n",
        "    builder.add_layer(circuit, cirq.XX, \"xx1\")\n",
        "    builder.add_layer(circuit, cirq.ZZ, \"zz1\")\n",
        "\n",
        "    # Finally, prepare the readout qubit.\n",
        "    circuit.append(cirq.H(readout))\n",
        "\n",
        "    return circuit, cirq.Z(readout)"
      ],
      "metadata": {
        "id": "4CO3NV9DL1Q5"
      },
      "execution_count": 23,
      "outputs": []
    },
    {
      "cell_type": "code",
      "source": [
        "model_circuit, model_readout = create_quantum_model()"
      ],
      "metadata": {
        "id": "l5nwIVn4L-A4"
      },
      "execution_count": 24,
      "outputs": []
    },
    {
      "cell_type": "markdown",
      "source": [
        "**2.2 Wrap the model-circuit in a tfq-keras model**\n",
        "\n",
        "Build the Keras model with the quantum components. This model is fed the \"quantum data\", from x_train_circ, that encodes the classical data. It uses a Parametrized Quantum Circuit layer, tfq.layers.PQC, to train the model circuit, on the quantum data.\n",
        "\n",
        "To classify these images, Farhi et al. proposed taking the expectation of a readout qubit in a parameterized circuit. The expectation returns a value between 1 and -1."
      ],
      "metadata": {
        "id": "erDbSu8FMB55"
      }
    },
    {
      "cell_type": "code",
      "source": [
        "# Build the Keras model.\n",
        "model = tf.keras.Sequential([\n",
        "    # The input is the data-circuit, encoded as a tf.string\n",
        "    tf.keras.layers.Input(shape=(), dtype=tf.string),\n",
        "    # The PQC layer returns the expected value of the readout gate, range [-1,1].\n",
        "    tfq.layers.PQC(model_circuit, model_readout),\n",
        "])"
      ],
      "metadata": {
        "id": "EGVBNR9UL_zo"
      },
      "execution_count": 25,
      "outputs": []
    },
    {
      "cell_type": "markdown",
      "source": [
        "Next, describe the training procedure to the model, using the compile method.\n",
        "\n",
        "Since the the expected readout is in the range [-1,1], optimizing the hinge loss is a somewhat natural fit."
      ],
      "metadata": {
        "id": "ii2ibZ02MNpa"
      }
    },
    {
      "cell_type": "markdown",
      "source": [
        "**Note:** Another valid approach would be to shift the output range to [0,1], and treat it as the probability the model assigns to class 3. This could be used with a standard a tf.losses.BinaryCrossentropy loss."
      ],
      "metadata": {
        "id": "plXZOsVXMTIx"
      }
    },
    {
      "cell_type": "markdown",
      "source": [
        "To use the hinge loss here you need to make two small adjustments. First convert the labels, y_train_nocon, from boolean to [-1,1], as expected by the hinge loss."
      ],
      "metadata": {
        "id": "KE944UDJMbaq"
      }
    },
    {
      "cell_type": "code",
      "source": [
        "y_train_hinge = 2.0*y_train_nocon-1.0\n",
        "y_test_hinge = 2.0*y_test-1.0"
      ],
      "metadata": {
        "id": "W0V12UJVMJGw"
      },
      "execution_count": 26,
      "outputs": []
    },
    {
      "cell_type": "markdown",
      "source": [
        "Second, use a custiom hinge_accuracy metric that correctly handles [-1, 1] as the y_true labels argument. tf.losses.BinaryAccuracy(threshold=0.0) expects y_true to be a boolean, and so can't be used with hinge loss)."
      ],
      "metadata": {
        "id": "T2LIypM3MhLr"
      }
    },
    {
      "cell_type": "code",
      "source": [
        "def hinge_accuracy(y_true, y_pred):\n",
        "    y_true = tf.squeeze(y_true) > 0.0\n",
        "    y_pred = tf.squeeze(y_pred) > 0.0\n",
        "    result = tf.cast(y_true == y_pred, tf.float32)\n",
        "\n",
        "    return tf.reduce_mean(result)"
      ],
      "metadata": {
        "id": "C-pYtY8pMey5"
      },
      "execution_count": 27,
      "outputs": []
    },
    {
      "cell_type": "code",
      "source": [
        "model.compile(\n",
        "    loss=tf.keras.losses.Hinge(),\n",
        "    optimizer=tf.keras.optimizers.Adam(),\n",
        "    metrics=[hinge_accuracy])"
      ],
      "metadata": {
        "id": "i2QFhWbJMkTS"
      },
      "execution_count": 28,
      "outputs": []
    },
    {
      "cell_type": "code",
      "source": [
        "print(model.summary())"
      ],
      "metadata": {
        "colab": {
          "base_uri": "https://localhost:8080/"
        },
        "id": "G84v3wPLMmhY",
        "outputId": "32c2ac9e-a8fb-4216-aecb-b442d227b34e"
      },
      "execution_count": 29,
      "outputs": [
        {
          "output_type": "stream",
          "name": "stdout",
          "text": [
            "Model: \"sequential\"\n",
            "_________________________________________________________________\n",
            " Layer (type)                Output Shape              Param #   \n",
            "=================================================================\n",
            " pqc (PQC)                   (None, 1)                 32        \n",
            "                                                                 \n",
            "=================================================================\n",
            "Total params: 32\n",
            "Trainable params: 32\n",
            "Non-trainable params: 0\n",
            "_________________________________________________________________\n",
            "None\n"
          ]
        }
      ]
    },
    {
      "cell_type": "markdown",
      "source": [
        "**Train the quantum model**\n",
        "\n",
        "Now train the model—this takes about 45 min. If you don't want to wait that long, use a small subset of the data (set NUM_EXAMPLES=500, below). This doesn't really affect the model's progress during training (it only has 32 parameters, and doesn't need much data to constrain these). Using fewer examples just ends training earlier (5min), but runs long enough to show that it is making progress in the validation logs."
      ],
      "metadata": {
        "id": "5q0bsEmDMsTq"
      }
    },
    {
      "cell_type": "code",
      "source": [
        "EPOCHS = 3\n",
        "BATCH_SIZE = 32\n",
        "\n",
        "NUM_EXAMPLES = len(x_train_tfcirc)"
      ],
      "metadata": {
        "id": "JHHdzQGYMo-Q"
      },
      "execution_count": 30,
      "outputs": []
    },
    {
      "cell_type": "code",
      "source": [
        "x_train_tfcirc_sub = x_train_tfcirc[:NUM_EXAMPLES]\n",
        "y_train_hinge_sub = y_train_hinge[:NUM_EXAMPLES]"
      ],
      "metadata": {
        "id": "zzz8aP5_Mxfp"
      },
      "execution_count": 31,
      "outputs": []
    },
    {
      "cell_type": "markdown",
      "source": [
        "Training this model to convergence should achieve >85% accuracy on the test set."
      ],
      "metadata": {
        "id": "fcM8cu7QM126"
      }
    },
    {
      "cell_type": "code",
      "source": [
        "qnn_history = model.fit(\n",
        "      x_train_tfcirc_sub, y_train_hinge_sub,\n",
        "      batch_size=32,\n",
        "      epochs=EPOCHS,\n",
        "      verbose=1,\n",
        "      validation_data=(x_test_tfcirc, y_test_hinge))\n",
        "\n",
        "qnn_results = model.evaluate(x_test_tfcirc, y_test)"
      ],
      "metadata": {
        "colab": {
          "base_uri": "https://localhost:8080/"
        },
        "id": "-FoVmDvKMzth",
        "outputId": "f9014829-30b4-4641-a141-c4ae59ef2cb5"
      },
      "execution_count": 32,
      "outputs": [
        {
          "output_type": "stream",
          "name": "stdout",
          "text": [
            "Epoch 1/3\n",
            "324/324 [==============================] - 831s 3s/step - loss: 0.8228 - hinge_accuracy: 0.6642 - val_loss: 0.4777 - val_hinge_accuracy: 0.8160\n",
            "Epoch 2/3\n",
            "324/324 [==============================] - 785s 2s/step - loss: 0.3879 - hinge_accuracy: 0.8551 - val_loss: 0.3583 - val_hinge_accuracy: 0.8947\n",
            "Epoch 3/3\n",
            "324/324 [==============================] - 788s 2s/step - loss: 0.3557 - hinge_accuracy: 0.8917 - val_loss: 0.3410 - val_hinge_accuracy: 0.9103\n",
            "62/62 [==============================] - 24s 387ms/step - loss: 0.3410 - hinge_accuracy: 0.9103\n"
          ]
        }
      ]
    },
    {
      "cell_type": "markdown",
      "source": [
        "**Note:**\n",
        "\n",
        "The training accuracy reports the average over the epoch. The validation accuracy is evaluated at the end of each epoch."
      ],
      "metadata": {
        "id": "1jXQuEiYM9rx"
      }
    },
    {
      "cell_type": "markdown",
      "source": [
        "**3. Classical neural network**\n",
        "\n",
        "While the quantum neural network works for this simplified MNIST problem, a basic classical neural network can easily outperform a QNN on this task. After a single epoch, a classical neural network can achieve >98% accuracy on the holdout set.\n",
        "\n",
        "In the following example, a classical neural network is used for for the 3-6 classification problem using the entire 28x28 image instead of subsampling the image. This easily converges to nearly 100% accuracy of the test set."
      ],
      "metadata": {
        "id": "ORiX7XS9NI-S"
      }
    },
    {
      "cell_type": "code",
      "source": [
        "def create_classical_model():\n",
        "    # A simple model based off LeNet from https://keras.io/examples/mnist_cnn/\n",
        "    model = tf.keras.Sequential()\n",
        "    model.add(tf.keras.layers.Conv2D(32, [3, 3], activation='relu', input_shape=(28,28,1)))\n",
        "    model.add(tf.keras.layers.Conv2D(64, [3, 3], activation='relu'))\n",
        "    model.add(tf.keras.layers.MaxPooling2D(pool_size=(2, 2)))\n",
        "    model.add(tf.keras.layers.Dropout(0.25))\n",
        "    model.add(tf.keras.layers.Flatten())\n",
        "    model.add(tf.keras.layers.Dense(128, activation='relu'))\n",
        "    model.add(tf.keras.layers.Dropout(0.5))\n",
        "    model.add(tf.keras.layers.Dense(1))\n",
        "    return model\n",
        "\n",
        "\n",
        "model = create_classical_model()\n",
        "model.compile(loss=tf.keras.losses.BinaryCrossentropy(from_logits=True),\n",
        "              optimizer=tf.keras.optimizers.Adam(),\n",
        "              metrics=['accuracy'])\n",
        "\n",
        "model.summary()"
      ],
      "metadata": {
        "colab": {
          "base_uri": "https://localhost:8080/"
        },
        "id": "0R8dgYsUM5l5",
        "outputId": "9d22cc9b-250a-4c8c-bd0a-36f17058d6dc"
      },
      "execution_count": 33,
      "outputs": [
        {
          "output_type": "stream",
          "name": "stdout",
          "text": [
            "Model: \"sequential_1\"\n",
            "_________________________________________________________________\n",
            " Layer (type)                Output Shape              Param #   \n",
            "=================================================================\n",
            " conv2d (Conv2D)             (None, 26, 26, 32)        320       \n",
            "                                                                 \n",
            " conv2d_1 (Conv2D)           (None, 24, 24, 64)        18496     \n",
            "                                                                 \n",
            " max_pooling2d (MaxPooling2D  (None, 12, 12, 64)       0         \n",
            " )                                                               \n",
            "                                                                 \n",
            " dropout (Dropout)           (None, 12, 12, 64)        0         \n",
            "                                                                 \n",
            " flatten (Flatten)           (None, 9216)              0         \n",
            "                                                                 \n",
            " dense (Dense)               (None, 128)               1179776   \n",
            "                                                                 \n",
            " dropout_1 (Dropout)         (None, 128)               0         \n",
            "                                                                 \n",
            " dense_1 (Dense)             (None, 1)                 129       \n",
            "                                                                 \n",
            "=================================================================\n",
            "Total params: 1,198,721\n",
            "Trainable params: 1,198,721\n",
            "Non-trainable params: 0\n",
            "_________________________________________________________________\n"
          ]
        }
      ]
    },
    {
      "cell_type": "code",
      "source": [
        "model.fit(x_train,\n",
        "          y_train,\n",
        "          batch_size=128,\n",
        "          epochs=1,\n",
        "          verbose=1,\n",
        "          validation_data=(x_test, y_test))\n",
        "\n",
        "cnn_results = model.evaluate(x_test, y_test)"
      ],
      "metadata": {
        "colab": {
          "base_uri": "https://localhost:8080/"
        },
        "id": "-Cdy6P_jNPzp",
        "outputId": "7ad48393-a602-4b06-937c-74f0fa96e1a7"
      },
      "execution_count": 34,
      "outputs": [
        {
          "output_type": "stream",
          "name": "stdout",
          "text": [
            "95/95 [==============================] - 10s 11ms/step - loss: 0.0489 - accuracy: 0.9840 - val_loss: 0.0061 - val_accuracy: 0.9980\n",
            "62/62 [==============================] - 0s 3ms/step - loss: 0.0061 - accuracy: 0.9980\n"
          ]
        }
      ]
    },
    {
      "cell_type": "markdown",
      "source": [
        "The above model has nearly 1.2M parameters. For a more fair comparison, try a 37-parameter model, on the subsampled images:"
      ],
      "metadata": {
        "id": "RZKLOC2LNU4r"
      }
    },
    {
      "cell_type": "code",
      "source": [
        "def create_fair_classical_model():\n",
        "    # A simple model based off LeNet from https://keras.io/examples/mnist_cnn/\n",
        "    model = tf.keras.Sequential()\n",
        "    model.add(tf.keras.layers.Flatten(input_shape=(4,4,1)))\n",
        "    model.add(tf.keras.layers.Dense(2, activation='relu'))\n",
        "    model.add(tf.keras.layers.Dense(1))\n",
        "    return model\n",
        "\n",
        "\n",
        "model = create_fair_classical_model()\n",
        "model.compile(loss=tf.keras.losses.BinaryCrossentropy(from_logits=True),\n",
        "              optimizer=tf.keras.optimizers.Adam(),\n",
        "              metrics=['accuracy'])\n",
        "\n",
        "model.summary()"
      ],
      "metadata": {
        "colab": {
          "base_uri": "https://localhost:8080/"
        },
        "id": "vJ6MKMMHNV-D",
        "outputId": "0f09dfa0-f65e-4882-edce-dd787538baac"
      },
      "execution_count": 35,
      "outputs": [
        {
          "output_type": "stream",
          "name": "stdout",
          "text": [
            "Model: \"sequential_2\"\n",
            "_________________________________________________________________\n",
            " Layer (type)                Output Shape              Param #   \n",
            "=================================================================\n",
            " flatten_1 (Flatten)         (None, 16)                0         \n",
            "                                                                 \n",
            " dense_2 (Dense)             (None, 2)                 34        \n",
            "                                                                 \n",
            " dense_3 (Dense)             (None, 1)                 3         \n",
            "                                                                 \n",
            "=================================================================\n",
            "Total params: 37\n",
            "Trainable params: 37\n",
            "Non-trainable params: 0\n",
            "_________________________________________________________________\n"
          ]
        }
      ]
    },
    {
      "cell_type": "code",
      "source": [
        "model.fit(x_train_bin,\n",
        "          y_train_nocon,\n",
        "          batch_size=128,\n",
        "          epochs=20,\n",
        "          verbose=2,\n",
        "          validation_data=(x_test_bin, y_test))\n",
        "\n",
        "fair_nn_results = model.evaluate(x_test_bin, y_test)"
      ],
      "metadata": {
        "colab": {
          "base_uri": "https://localhost:8080/"
        },
        "id": "ElqEa_OZNd1y",
        "outputId": "fa50b485-d2fb-4289-d669-55cb8d715858"
      },
      "execution_count": 36,
      "outputs": [
        {
          "output_type": "stream",
          "name": "stdout",
          "text": [
            "Epoch 1/20\n",
            "81/81 - 1s - loss: 0.6743 - accuracy: 0.5249 - val_loss: 0.6560 - val_accuracy: 0.4878 - 789ms/epoch - 10ms/step\n",
            "Epoch 2/20\n",
            "81/81 - 0s - loss: 0.6522 - accuracy: 0.5274 - val_loss: 0.6287 - val_accuracy: 0.4909 - 244ms/epoch - 3ms/step\n",
            "Epoch 3/20\n",
            "81/81 - 0s - loss: 0.6224 - accuracy: 0.6340 - val_loss: 0.5941 - val_accuracy: 0.6575 - 241ms/epoch - 3ms/step\n",
            "Epoch 4/20\n",
            "81/81 - 0s - loss: 0.5866 - accuracy: 0.6787 - val_loss: 0.5553 - val_accuracy: 0.7012 - 234ms/epoch - 3ms/step\n",
            "Epoch 5/20\n",
            "81/81 - 0s - loss: 0.5492 - accuracy: 0.7987 - val_loss: 0.5165 - val_accuracy: 0.8277 - 266ms/epoch - 3ms/step\n",
            "Epoch 6/20\n",
            "81/81 - 0s - loss: 0.5085 - accuracy: 0.8298 - val_loss: 0.4532 - val_accuracy: 0.8308 - 283ms/epoch - 3ms/step\n",
            "Epoch 7/20\n",
            "81/81 - 0s - loss: 0.4093 - accuracy: 0.8312 - val_loss: 0.3609 - val_accuracy: 0.8105 - 267ms/epoch - 3ms/step\n",
            "Epoch 8/20\n",
            "81/81 - 0s - loss: 0.3397 - accuracy: 0.8406 - val_loss: 0.3136 - val_accuracy: 0.8176 - 274ms/epoch - 3ms/step\n",
            "Epoch 9/20\n",
            "81/81 - 0s - loss: 0.3019 - accuracy: 0.8509 - val_loss: 0.2848 - val_accuracy: 0.8262 - 232ms/epoch - 3ms/step\n",
            "Epoch 10/20\n",
            "81/81 - 0s - loss: 0.2782 - accuracy: 0.8544 - val_loss: 0.2657 - val_accuracy: 0.8267 - 268ms/epoch - 3ms/step\n",
            "Epoch 11/20\n",
            "81/81 - 0s - loss: 0.2626 - accuracy: 0.8743 - val_loss: 0.2528 - val_accuracy: 0.8648 - 265ms/epoch - 3ms/step\n",
            "Epoch 12/20\n",
            "81/81 - 0s - loss: 0.2518 - accuracy: 0.8760 - val_loss: 0.2438 - val_accuracy: 0.8704 - 227ms/epoch - 3ms/step\n",
            "Epoch 13/20\n",
            "81/81 - 0s - loss: 0.2440 - accuracy: 0.8768 - val_loss: 0.2373 - val_accuracy: 0.8659 - 230ms/epoch - 3ms/step\n",
            "Epoch 14/20\n",
            "81/81 - 0s - loss: 0.2383 - accuracy: 0.8770 - val_loss: 0.2328 - val_accuracy: 0.8659 - 243ms/epoch - 3ms/step\n",
            "Epoch 15/20\n",
            "81/81 - 0s - loss: 0.2341 - accuracy: 0.8795 - val_loss: 0.2291 - val_accuracy: 0.8674 - 235ms/epoch - 3ms/step\n",
            "Epoch 16/20\n",
            "81/81 - 0s - loss: 0.2310 - accuracy: 0.8800 - val_loss: 0.2262 - val_accuracy: 0.8674 - 232ms/epoch - 3ms/step\n",
            "Epoch 17/20\n",
            "81/81 - 0s - loss: 0.2286 - accuracy: 0.8801 - val_loss: 0.2242 - val_accuracy: 0.8674 - 256ms/epoch - 3ms/step\n",
            "Epoch 18/20\n",
            "81/81 - 0s - loss: 0.2268 - accuracy: 0.8802 - val_loss: 0.2225 - val_accuracy: 0.8674 - 237ms/epoch - 3ms/step\n",
            "Epoch 19/20\n",
            "81/81 - 0s - loss: 0.2254 - accuracy: 0.8831 - val_loss: 0.2213 - val_accuracy: 0.9141 - 253ms/epoch - 3ms/step\n",
            "Epoch 20/20\n",
            "81/81 - 0s - loss: 0.2242 - accuracy: 0.9017 - val_loss: 0.2207 - val_accuracy: 0.9141 - 384ms/epoch - 5ms/step\n",
            "62/62 [==============================] - 0s 2ms/step - loss: 0.2207 - accuracy: 0.9141\n"
          ]
        }
      ]
    },
    {
      "cell_type": "markdown",
      "source": [
        "**4. Comparison**\n",
        "\n",
        "Higher resolution input and a more powerful model make this problem easy for the CNN. While a classical model of similar power (~32 parameters) trains to a similar accuracy in a fraction of the time. One way or the other, the classical neural network easily outperforms the quantum neural network. For classical data, it is difficult to beat a classical neural network."
      ],
      "metadata": {
        "id": "odEqHdD5NiTC"
      }
    },
    {
      "cell_type": "code",
      "source": [
        "qnn_accuracy = qnn_results[1]\n",
        "cnn_accuracy = cnn_results[1]\n",
        "fair_nn_accuracy = fair_nn_results[1]\n",
        "\n",
        "sns.barplot(x=[\"Quantum\", \"Classical, full\", \"Classical, fair\"],\n",
        "            y=[qnn_accuracy, cnn_accuracy, fair_nn_accuracy])"
      ],
      "metadata": {
        "colab": {
          "base_uri": "https://localhost:8080/",
          "height": 283
        },
        "id": "83pYzhXpNg5K",
        "outputId": "5e7cfc57-dd73-4cbb-cbeb-f80cdb9d0d57"
      },
      "execution_count": 37,
      "outputs": [
        {
          "output_type": "execute_result",
          "data": {
            "text/plain": [
              "<AxesSubplot:>"
            ]
          },
          "metadata": {},
          "execution_count": 37
        },
        {
          "output_type": "display_data",
          "data": {
            "text/plain": [
              "<Figure size 432x288 with 1 Axes>"
            ],
            "image/png": "[encoded data removed]"
          },
          "metadata": {
            "needs_background": "light"
          }
        }
      ]
    },
    {
      "cell_type": "code",
      "source": [],
      "metadata": {
        "id": "jkTC-SgZNzpQ"
      },
      "execution_count": null,
      "outputs": []
    }
  ]
}